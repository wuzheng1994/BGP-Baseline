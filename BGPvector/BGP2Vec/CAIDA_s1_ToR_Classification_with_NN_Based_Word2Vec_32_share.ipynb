{
 "cells": [
  {
   "cell_type": "markdown",
   "metadata": {},
   "source": [
    "# Import python packages"
   ]
  },
  {
   "cell_type": "code",
   "metadata": {
    "ExecuteTime": {
     "end_time": "2025-03-01T03:54:44.763554Z",
     "start_time": "2025-03-01T03:54:44.757612Z"
    }
   },
   "source": [
    "import pickle\n",
    "import numpy as np\n",
    "from sklearn.model_selection import train_test_split\n",
    "\n",
    "from keras.models import Sequential\n",
    "from keras.layers import Dense, Reshape, Flatten\n",
    "from keras.layers import LSTM\n",
    "from keras.layers.convolutional import Convolution1D\n",
    "from keras.layers.convolutional import MaxPooling1D\n",
    "from keras.layers.embeddings import Embedding\n",
    "from keras.preprocessing import sequence\n",
    "from keras.callbacks import TensorBoard,ModelCheckpoint\n",
    "from keras.utils import to_categorical\n",
    "\n",
    "SEED = 7\n",
    "np.random.seed(SEED)"
   ],
   "outputs": [],
   "execution_count": 60
  },
  {
   "cell_type": "markdown",
   "metadata": {},
   "source": [
    "# Define parameters and load dataset"
   ]
  },
  {
   "cell_type": "code",
   "metadata": {
    "ExecuteTime": {
     "end_time": "2025-03-01T03:54:45.940126Z",
     "start_time": "2025-03-01T03:54:45.914597Z"
    }
   },
   "source": [
    "MODEL_NAME = \"CAIDA_s1_ToR_Classification_with_NN_Based_Word2Vec_32\"\n",
    "\n",
    "Word2Vec_MODEL_NAME = \"Word2Vec_No_Indexed_3_iters_5_negative_1_window\"  #################\n",
    "\n",
    "TEST_SIZE = 0.2\n",
    "TOR_LABELS_DICT = {'P2P':0, 'C2P': 1,'P2C': 2}\n",
    "class_names = ['P2P', 'C2P', 'P2C']\n",
    "num_classes = len(class_names)\n",
    "DATA_PATH = 'Data/'\n",
    "MODELS_PATH = 'Models/'\n",
    "RESULTS_PATH = 'Results/'\n",
    "\n",
    "DATA = \"caida_s1_tor\"\n",
    "dataset = np.load(DATA_PATH + DATA + \"_dataset.npy\")\n",
    "labels = np.load(DATA_PATH + DATA + \"_labels.npy\")\n",
    "\n",
    "print(dataset.shape, labels.shape)"
   ],
   "outputs": [
    {
     "name": "stdout",
     "output_type": "stream",
     "text": [
      "(861704, 2) (861704,)\n"
     ]
    }
   ],
   "execution_count": 61
  },
  {
   "cell_type": "code",
   "metadata": {
    "ExecuteTime": {
     "end_time": "2025-03-01T03:42:35.467595Z",
     "start_time": "2025-03-01T03:42:35.464850Z"
    }
   },
   "source": [
    "print(dataset[0])"
   ],
   "outputs": [
    {
     "name": "stdout",
     "output_type": "stream",
     "text": [
      "['1' '11537']\n"
     ]
    }
   ],
   "execution_count": 52
  },
  {
   "cell_type": "code",
   "metadata": {
    "ExecuteTime": {
     "end_time": "2025-03-01T03:54:48.534556Z",
     "start_time": "2025-03-01T03:54:48.172835Z"
    }
   },
   "source": [
    "ASN_set = set()\n",
    "for tor in dataset:\n",
    "    ASN_set.add(tor[0])\n",
    "    ASN_set.add(tor[1])\n",
    "\n",
    "print(len(ASN_set))"
   ],
   "outputs": [
    {
     "name": "stdout",
     "output_type": "stream",
     "text": [
      "60571\n"
     ]
    }
   ],
   "execution_count": 62
  },
  {
   "cell_type": "code",
   "metadata": {
    "ExecuteTime": {
     "end_time": "2025-03-01T03:54:50.480310Z",
     "start_time": "2025-03-01T03:54:50.412769Z"
    }
   },
   "source": [
    "from collections import Counter\n",
    "c_caida = Counter(labels)\n",
    "print(c_caida)"
   ],
   "outputs": [
    {
     "name": "stdout",
     "output_type": "stream",
     "text": [
      "Counter({0: 619524, 2: 121090, 1: 121090})\n"
     ]
    }
   ],
   "execution_count": 63
  },
  {
   "cell_type": "markdown",
   "metadata": {},
   "source": [
    "# Load Word2Vec embedding"
   ]
  },
  {
   "cell_type": "code",
   "metadata": {
    "ExecuteTime": {
     "end_time": "2025-03-01T03:42:42.108320Z",
     "start_time": "2025-03-01T03:42:41.900042Z"
    }
   },
   "source": [
    "from gensim.models import Word2Vec\n",
    "word2vec_model = Word2Vec.load(MODELS_PATH + Word2Vec_MODEL_NAME + \".word2vec\")\n",
    "emdeddings = word2vec_model.wv.syn0\n",
    "total_ASNs, embedding_vecor_length = emdeddings.shape\n",
    "print(total_ASNs, embedding_vecor_length)"
   ],
   "outputs": [
    {
     "name": "stdout",
     "output_type": "stream",
     "text": [
      "60876 32\n"
     ]
    },
    {
     "name": "stderr",
     "output_type": "stream",
     "text": [
      "/home/zhouyy/anaconda3/envs/BGP2Vec/lib/python3.6/site-packages/ipykernel/__main__.py:3: DeprecationWarning: Call to deprecated `syn0` (Attribute will be removed in 4.0.0, use self.vectors instead).\n",
      "  app.launch_new_instance()\n"
     ]
    }
   ],
   "execution_count": 55
  },
  {
   "cell_type": "markdown",
   "metadata": {},
   "source": [
    "## Generate indexed data with fixed length"
   ]
  },
  {
   "cell_type": "code",
   "metadata": {
    "ExecuteTime": {
     "end_time": "2025-03-01T03:55:21.295896Z",
     "start_time": "2025-03-01T03:55:19.872337Z"
    }
   },
   "source": [
    "def asn2idx(asn):\n",
    "    return word2vec_model.wv.vocab[asn].index\n",
    "def idx2asn(idx):\n",
    "    return word2vec_model.wv.index2word[idx]\n",
    "\n",
    "def dataset_asn2idx(dataset):\n",
    "    dataset_idx = np.zeros([len(dataset), 2], dtype=np.int32)\n",
    "\n",
    "    for i, pair in enumerate(dataset):\n",
    "            dataset_idx[i, 0] = asn2idx(pair[0])\n",
    "            dataset_idx[i, 1] = asn2idx(pair[1])\n",
    "    return dataset_idx\n",
    "\n",
    "def dataset_idx2asn(dataset_idx):\n",
    "    dataset_asn = np.zeros([len(dataset_idx), 2], dtype = np.dtype('U6'))\n",
    "\n",
    "    for i, pair in enumerate(dataset_idx):\n",
    "            dataset_asn[i, 0] = idx2asn(pair[0])\n",
    "            dataset_asn[i, 1] = idx2asn(pair[1])\n",
    "    return dataset_asn\n",
    "\n",
    "def dataset_asn2idx_skip_unknown(dataset):\n",
    "    \"\"\"\n",
    "    过滤并转换数据集，跳过包含未知ASN的对\n",
    "    Args:\n",
    "        dataset: [[asn1, asn2], ...]\n",
    "    Returns:\n",
    "        np.ndarray: 有效对的索引数组，形状 (N, 2)\n",
    "    \"\"\"\n",
    "    valid_pairs = []\n",
    "    skipped_count = 0\n",
    "    vocab = word2vec_model.wv.vocab  # Gensim 3.8.3的词汇表对象\n",
    "\n",
    "    for asn1, asn2 in dataset:\n",
    "        # 检查两个ASN是否均存在\n",
    "        if asn1 in vocab and asn2 in vocab:\n",
    "            idx1 = vocab[asn1].index\n",
    "            idx2 = vocab[asn2].index\n",
    "            valid_pairs.append([idx1, idx2])\n",
    "        else:\n",
    "            skipped_count += 1\n",
    "\n",
    "    print(f\"原始数据量: {len(dataset)}\")\n",
    "    print(f\"跳过无效对: {skipped_count}\")\n",
    "    print(f\"保留有效对: {len(valid_pairs)}\")\n",
    "    return np.array(valid_pairs, dtype=np.int32)\n",
    "\n",
    "dataset = dataset_asn2idx_skip_unknown(dataset)\n",
    "print(dataset.shape)"
   ],
   "outputs": [
    {
     "name": "stdout",
     "output_type": "stream",
     "text": [
      "原始数据量: 861704\n",
      "跳过无效对: 1756\n",
      "保留有效对: 859948\n",
      "(859948, 2)\n"
     ]
    }
   ],
   "execution_count": 64
  },
  {
   "cell_type": "markdown",
   "metadata": {},
   "source": [
    "# Generate training and test sets"
   ]
  },
  {
   "cell_type": "markdown",
   "metadata": {},
   "source": [
    "## Shuffle dataset"
   ]
  },
  {
   "cell_type": "code",
   "metadata": {
    "ExecuteTime": {
     "end_time": "2025-03-01T03:55:28.886497Z",
     "start_time": "2025-03-01T03:55:28.856032Z"
    }
   },
   "source": [
    "from sklearn.utils import shuffle\n",
    "indices = np.arange(len(dataset))\n",
    "np.random.shuffle(indices)\n",
    "dataset = dataset[indices]\n",
    "labels = labels[indices]\n",
    "# dataset, labels = shuffle(dataset, labels, random_state=7)"
   ],
   "outputs": [],
   "execution_count": 65
  },
  {
   "cell_type": "markdown",
   "metadata": {},
   "source": [
    "## Train-Test split"
   ]
  },
  {
   "cell_type": "code",
   "metadata": {
    "ExecuteTime": {
     "end_time": "2025-03-01T03:55:31.309979Z",
     "start_time": "2025-03-01T03:55:31.274733Z"
    }
   },
   "source": [
    "indices = np.arange(len(dataset))\n",
    "x_training, x_test, indices_training, indices_test = train_test_split(dataset, indices, test_size=TEST_SIZE)\n",
    "y_training = labels[indices_training]\n",
    "y_test = labels[indices_test]\n",
    "\n",
    "del dataset, labels"
   ],
   "outputs": [],
   "execution_count": 66
  },
  {
   "cell_type": "code",
   "metadata": {
    "ExecuteTime": {
     "end_time": "2025-03-01T03:55:32.942052Z",
     "start_time": "2025-03-01T03:55:32.875065Z"
    }
   },
   "source": [
    "print(x_training.shape, y_training.shape)\n",
    "print(x_test.shape, y_test.shape)\n",
    "\n",
    "print(1.0*len(x_training)/(len(x_test)+len(x_training)))\n",
    "\n",
    "from collections import Counter\n",
    "training_c = Counter(y_training)\n",
    "test_c = Counter(y_test)\n",
    "print(training_c, test_c)"
   ],
   "outputs": [
    {
     "name": "stdout",
     "output_type": "stream",
     "text": [
      "(687958, 2) (687958,)\n",
      "(171990, 2) (171990,)\n",
      "0.7999995348555959\n",
      "Counter({0: 495228, 2: 96404, 1: 96326}) Counter({0: 123874, 1: 24097, 2: 24019})\n"
     ]
    }
   ],
   "execution_count": 67
  },
  {
   "cell_type": "markdown",
   "metadata": {},
   "source": [
    "# Define and run NN model\n",
    "## Define model"
   ]
  },
  {
   "cell_type": "code",
   "metadata": {
    "ExecuteTime": {
     "end_time": "2025-03-01T03:55:35.934418Z",
     "start_time": "2025-03-01T03:55:35.837253Z"
    }
   },
   "source": [
    "embedding_trainable = False\n",
    "\n",
    "input_length = 2\n",
    "\n",
    "model = Sequential()\n",
    "model.add(Embedding(total_ASNs, embedding_vecor_length, input_length=input_length,\n",
    "                    weights=[emdeddings], trainable=embedding_trainable))\n",
    "model.add(Convolution1D(filters=32, kernel_size=3, padding='same', activation='relu'))\n",
    "model.add(Reshape((model.output_shape[2],model.output_shape[1])))\n",
    "model.add(MaxPooling1D(pool_size=2))\n",
    "model.add(Convolution1D(filters=32, kernel_size=3, padding='same', activation='relu'))\n",
    "model.add(Reshape((model.output_shape[2],model.output_shape[1])))\n",
    "model.add(MaxPooling1D(pool_size=2))\n",
    "model.add(Flatten())\n",
    "model.add(Dense(100, activation='relu'))\n",
    "model.add(Dense(num_classes, activation='softmax'))\n",
    "model.compile(loss='categorical_crossentropy', optimizer='adam', metrics=['accuracy'])\n",
    "print(model.summary())"
   ],
   "outputs": [
    {
     "name": "stdout",
     "output_type": "stream",
     "text": [
      "_________________________________________________________________\n",
      "Layer (type)                 Output Shape              Param #   \n",
      "=================================================================\n",
      "embedding_2 (Embedding)      (None, 2, 32)             1948032   \n",
      "_________________________________________________________________\n",
      "conv1d_3 (Conv1D)            (None, 2, 32)             3104      \n",
      "_________________________________________________________________\n",
      "reshape_3 (Reshape)          (None, 32, 2)             0         \n",
      "_________________________________________________________________\n",
      "max_pooling1d_3 (MaxPooling1 (None, 16, 2)             0         \n",
      "_________________________________________________________________\n",
      "conv1d_4 (Conv1D)            (None, 16, 32)            224       \n",
      "_________________________________________________________________\n",
      "reshape_4 (Reshape)          (None, 32, 16)            0         \n",
      "_________________________________________________________________\n",
      "max_pooling1d_4 (MaxPooling1 (None, 16, 16)            0         \n",
      "_________________________________________________________________\n",
      "flatten_2 (Flatten)          (None, 256)               0         \n",
      "_________________________________________________________________\n",
      "dense_3 (Dense)              (None, 100)               25700     \n",
      "_________________________________________________________________\n",
      "dense_4 (Dense)              (None, 3)                 303       \n",
      "=================================================================\n",
      "Total params: 1,977,363\n",
      "Trainable params: 29,331\n",
      "Non-trainable params: 1,948,032\n",
      "_________________________________________________________________\n",
      "None\n"
     ]
    }
   ],
   "execution_count": 68
  },
  {
   "cell_type": "code",
   "metadata": {
    "ExecuteTime": {
     "end_time": "2025-03-01T02:39:51.620667Z",
     "start_time": "2025-03-01T02:39:51.592090Z"
    }
   },
   "source": [
    "from keras.utils import plot_model\n",
    "plot_model(model, show_shapes=True,to_file=RESULTS_PATH + MODEL_NAME + \"_\" + 'model.png')"
   ],
   "outputs": [
    {
     "ename": "Exception",
     "evalue": "\"dot\" not found in path.",
     "output_type": "error",
     "traceback": [
      "\u001B[0;31m---------------------------------------------------------------------------\u001B[0m",
      "\u001B[0;31mFileNotFoundError\u001B[0m                         Traceback (most recent call last)",
      "\u001B[0;32m~/anaconda3/envs/BGP2Vec/lib/python3.6/site-packages/pydot.py\u001B[0m in \u001B[0;36mcreate\u001B[0;34m(self, prog, format)\u001B[0m\n\u001B[1;32m   1877\u001B[0m                 \u001B[0mshell\u001B[0m\u001B[0;34m=\u001B[0m\u001B[0;32mFalse\u001B[0m\u001B[0;34m,\u001B[0m\u001B[0;34m\u001B[0m\u001B[0m\n\u001B[0;32m-> 1878\u001B[0;31m                 stderr=subprocess.PIPE, stdout=subprocess.PIPE)\n\u001B[0m\u001B[1;32m   1879\u001B[0m         \u001B[0;32mexcept\u001B[0m \u001B[0mOSError\u001B[0m \u001B[0;32mas\u001B[0m \u001B[0me\u001B[0m\u001B[0;34m:\u001B[0m\u001B[0;34m\u001B[0m\u001B[0m\n",
      "\u001B[0;32m~/anaconda3/envs/BGP2Vec/lib/python3.6/subprocess.py\u001B[0m in \u001B[0;36m__init__\u001B[0;34m(self, args, bufsize, executable, stdin, stdout, stderr, preexec_fn, close_fds, shell, cwd, env, universal_newlines, startupinfo, creationflags, restore_signals, start_new_session, pass_fds, encoding, errors)\u001B[0m\n\u001B[1;32m    708\u001B[0m                                 \u001B[0merrread\u001B[0m\u001B[0;34m,\u001B[0m \u001B[0merrwrite\u001B[0m\u001B[0;34m,\u001B[0m\u001B[0;34m\u001B[0m\u001B[0m\n\u001B[0;32m--> 709\u001B[0;31m                                 restore_signals, start_new_session)\n\u001B[0m\u001B[1;32m    710\u001B[0m         \u001B[0;32mexcept\u001B[0m\u001B[0;34m:\u001B[0m\u001B[0;34m\u001B[0m\u001B[0m\n",
      "\u001B[0;32m~/anaconda3/envs/BGP2Vec/lib/python3.6/subprocess.py\u001B[0m in \u001B[0;36m_execute_child\u001B[0;34m(self, args, executable, preexec_fn, close_fds, pass_fds, cwd, env, startupinfo, creationflags, shell, p2cread, p2cwrite, c2pread, c2pwrite, errread, errwrite, restore_signals, start_new_session)\u001B[0m\n\u001B[1;32m   1343\u001B[0m                             \u001B[0merr_msg\u001B[0m \u001B[0;34m+=\u001B[0m \u001B[0;34m': '\u001B[0m \u001B[0;34m+\u001B[0m \u001B[0mrepr\u001B[0m\u001B[0;34m(\u001B[0m\u001B[0merr_filename\u001B[0m\u001B[0;34m)\u001B[0m\u001B[0;34m\u001B[0m\u001B[0m\n\u001B[0;32m-> 1344\u001B[0;31m                     \u001B[0;32mraise\u001B[0m \u001B[0mchild_exception_type\u001B[0m\u001B[0;34m(\u001B[0m\u001B[0merrno_num\u001B[0m\u001B[0;34m,\u001B[0m \u001B[0merr_msg\u001B[0m\u001B[0;34m,\u001B[0m \u001B[0merr_filename\u001B[0m\u001B[0;34m)\u001B[0m\u001B[0;34m\u001B[0m\u001B[0m\n\u001B[0m\u001B[1;32m   1345\u001B[0m                 \u001B[0;32mraise\u001B[0m \u001B[0mchild_exception_type\u001B[0m\u001B[0;34m(\u001B[0m\u001B[0merr_msg\u001B[0m\u001B[0;34m)\u001B[0m\u001B[0;34m\u001B[0m\u001B[0m\n",
      "\u001B[0;31mFileNotFoundError\u001B[0m: [Errno 2] No such file or directory: 'dot': 'dot'",
      "\nDuring handling of the above exception, another exception occurred:\n",
      "\u001B[0;31mException\u001B[0m                                 Traceback (most recent call last)",
      "\u001B[0;32m<ipython-input-12-c3db4ce0b85b>\u001B[0m in \u001B[0;36m<module>\u001B[0;34m()\u001B[0m\n\u001B[1;32m      1\u001B[0m \u001B[0;32mfrom\u001B[0m \u001B[0mkeras\u001B[0m\u001B[0;34m.\u001B[0m\u001B[0mutils\u001B[0m \u001B[0;32mimport\u001B[0m \u001B[0mplot_model\u001B[0m\u001B[0;34m\u001B[0m\u001B[0m\n\u001B[0;32m----> 2\u001B[0;31m \u001B[0mplot_model\u001B[0m\u001B[0;34m(\u001B[0m\u001B[0mmodel\u001B[0m\u001B[0;34m,\u001B[0m \u001B[0mshow_shapes\u001B[0m\u001B[0;34m=\u001B[0m\u001B[0;32mTrue\u001B[0m\u001B[0;34m,\u001B[0m\u001B[0mto_file\u001B[0m\u001B[0;34m=\u001B[0m\u001B[0mRESULTS_PATH\u001B[0m \u001B[0;34m+\u001B[0m \u001B[0mMODEL_NAME\u001B[0m \u001B[0;34m+\u001B[0m \u001B[0;34m\"_\"\u001B[0m \u001B[0;34m+\u001B[0m \u001B[0;34m'model.png'\u001B[0m\u001B[0;34m)\u001B[0m\u001B[0;34m\u001B[0m\u001B[0m\n\u001B[0m",
      "\u001B[0;32m~/anaconda3/envs/BGP2Vec/lib/python3.6/site-packages/keras/utils/vis_utils.py\u001B[0m in \u001B[0;36mplot_model\u001B[0;34m(model, to_file, show_shapes, show_layer_names, rankdir)\u001B[0m\n\u001B[1;32m    130\u001B[0m             \u001B[0;34m'LR'\u001B[0m \u001B[0mcreates\u001B[0m \u001B[0ma\u001B[0m \u001B[0mhorizontal\u001B[0m \u001B[0mplot\u001B[0m\u001B[0;34m.\u001B[0m\u001B[0;34m\u001B[0m\u001B[0m\n\u001B[1;32m    131\u001B[0m     \"\"\"\n\u001B[0;32m--> 132\u001B[0;31m     \u001B[0mdot\u001B[0m \u001B[0;34m=\u001B[0m \u001B[0mmodel_to_dot\u001B[0m\u001B[0;34m(\u001B[0m\u001B[0mmodel\u001B[0m\u001B[0;34m,\u001B[0m \u001B[0mshow_shapes\u001B[0m\u001B[0;34m,\u001B[0m \u001B[0mshow_layer_names\u001B[0m\u001B[0;34m,\u001B[0m \u001B[0mrankdir\u001B[0m\u001B[0;34m)\u001B[0m\u001B[0;34m\u001B[0m\u001B[0m\n\u001B[0m\u001B[1;32m    133\u001B[0m     \u001B[0m_\u001B[0m\u001B[0;34m,\u001B[0m \u001B[0mextension\u001B[0m \u001B[0;34m=\u001B[0m \u001B[0mos\u001B[0m\u001B[0;34m.\u001B[0m\u001B[0mpath\u001B[0m\u001B[0;34m.\u001B[0m\u001B[0msplitext\u001B[0m\u001B[0;34m(\u001B[0m\u001B[0mto_file\u001B[0m\u001B[0;34m)\u001B[0m\u001B[0;34m\u001B[0m\u001B[0m\n\u001B[1;32m    134\u001B[0m     \u001B[0;32mif\u001B[0m \u001B[0;32mnot\u001B[0m \u001B[0mextension\u001B[0m\u001B[0;34m:\u001B[0m\u001B[0;34m\u001B[0m\u001B[0m\n",
      "\u001B[0;32m~/anaconda3/envs/BGP2Vec/lib/python3.6/site-packages/keras/utils/vis_utils.py\u001B[0m in \u001B[0;36mmodel_to_dot\u001B[0;34m(model, show_shapes, show_layer_names, rankdir)\u001B[0m\n\u001B[1;32m     53\u001B[0m     \u001B[0;32mfrom\u001B[0m \u001B[0;34m.\u001B[0m\u001B[0;34m.\u001B[0m\u001B[0mmodels\u001B[0m \u001B[0;32mimport\u001B[0m \u001B[0mSequential\u001B[0m\u001B[0;34m\u001B[0m\u001B[0m\n\u001B[1;32m     54\u001B[0m \u001B[0;34m\u001B[0m\u001B[0m\n\u001B[0;32m---> 55\u001B[0;31m     \u001B[0m_check_pydot\u001B[0m\u001B[0;34m(\u001B[0m\u001B[0;34m)\u001B[0m\u001B[0;34m\u001B[0m\u001B[0m\n\u001B[0m\u001B[1;32m     56\u001B[0m     \u001B[0mdot\u001B[0m \u001B[0;34m=\u001B[0m \u001B[0mpydot\u001B[0m\u001B[0;34m.\u001B[0m\u001B[0mDot\u001B[0m\u001B[0;34m(\u001B[0m\u001B[0;34m)\u001B[0m\u001B[0;34m\u001B[0m\u001B[0m\n\u001B[1;32m     57\u001B[0m     \u001B[0mdot\u001B[0m\u001B[0;34m.\u001B[0m\u001B[0mset\u001B[0m\u001B[0;34m(\u001B[0m\u001B[0;34m'rankdir'\u001B[0m\u001B[0;34m,\u001B[0m \u001B[0mrankdir\u001B[0m\u001B[0;34m)\u001B[0m\u001B[0;34m\u001B[0m\u001B[0m\n",
      "\u001B[0;32m~/anaconda3/envs/BGP2Vec/lib/python3.6/site-packages/keras/utils/vis_utils.py\u001B[0m in \u001B[0;36m_check_pydot\u001B[0;34m()\u001B[0m\n\u001B[1;32m     24\u001B[0m         \u001B[0;31m# Attempt to create an image of a blank graph\u001B[0m\u001B[0;34m\u001B[0m\u001B[0;34m\u001B[0m\u001B[0m\n\u001B[1;32m     25\u001B[0m         \u001B[0;31m# to check the pydot/graphviz installation.\u001B[0m\u001B[0;34m\u001B[0m\u001B[0;34m\u001B[0m\u001B[0m\n\u001B[0;32m---> 26\u001B[0;31m         \u001B[0mpydot\u001B[0m\u001B[0;34m.\u001B[0m\u001B[0mDot\u001B[0m\u001B[0;34m.\u001B[0m\u001B[0mcreate\u001B[0m\u001B[0;34m(\u001B[0m\u001B[0mpydot\u001B[0m\u001B[0;34m.\u001B[0m\u001B[0mDot\u001B[0m\u001B[0;34m(\u001B[0m\u001B[0;34m)\u001B[0m\u001B[0;34m)\u001B[0m\u001B[0;34m\u001B[0m\u001B[0m\n\u001B[0m\u001B[1;32m     27\u001B[0m     \u001B[0;32mexcept\u001B[0m \u001B[0mOSError\u001B[0m\u001B[0;34m:\u001B[0m\u001B[0;34m\u001B[0m\u001B[0m\n\u001B[1;32m     28\u001B[0m         raise OSError(\n",
      "\u001B[0;32m~/anaconda3/envs/BGP2Vec/lib/python3.6/site-packages/pydot.py\u001B[0m in \u001B[0;36mcreate\u001B[0;34m(self, prog, format)\u001B[0m\n\u001B[1;32m   1881\u001B[0m                 raise Exception(\n\u001B[1;32m   1882\u001B[0m                     '\"{prog}\" not found in path.'.format(\n\u001B[0;32m-> 1883\u001B[0;31m                         prog=prog))\n\u001B[0m\u001B[1;32m   1884\u001B[0m             \u001B[0;32melse\u001B[0m\u001B[0;34m:\u001B[0m\u001B[0;34m\u001B[0m\u001B[0m\n\u001B[1;32m   1885\u001B[0m                 \u001B[0;32mraise\u001B[0m\u001B[0;34m\u001B[0m\u001B[0m\n",
      "\u001B[0;31mException\u001B[0m: \"dot\" not found in path."
     ]
    }
   ],
   "execution_count": 12
  },
  {
   "cell_type": "markdown",
   "metadata": {},
   "source": [
    "## convert class vectors to binary class matrices"
   ]
  },
  {
   "cell_type": "code",
   "metadata": {
    "ExecuteTime": {
     "end_time": "2025-03-01T03:55:39.613599Z",
     "start_time": "2025-03-01T03:55:39.605801Z"
    }
   },
   "source": [
    "y_training_vector = to_categorical(y_training, num_classes)\n",
    "y_test_vector = to_categorical(y_test, num_classes)"
   ],
   "outputs": [],
   "execution_count": 69
  },
  {
   "cell_type": "markdown",
   "metadata": {},
   "source": [
    "## Use class_weight to deal with unbalanced dataset"
   ]
  },
  {
   "cell_type": "code",
   "metadata": {
    "ExecuteTime": {
     "end_time": "2025-03-01T03:55:41.459105Z",
     "start_time": "2025-03-01T03:55:41.456727Z"
    }
   },
   "source": [
    "from sklearn.utils import class_weight\n",
    "\n",
    "# class_weights = class_weight.compute_class_weight('balanced', list(range(num_classes)), y_training)\n",
    "# print(class_weights)\n",
    "class_weights = None"
   ],
   "outputs": [],
   "execution_count": 70
  },
  {
   "cell_type": "markdown",
   "metadata": {},
   "source": [
    "## Fit model"
   ]
  },
  {
   "cell_type": "code",
   "metadata": {
    "ExecuteTime": {
     "end_time": "2025-03-01T03:55:43.411221Z",
     "start_time": "2025-03-01T03:55:43.407984Z"
    }
   },
   "source": [
    "checkpointer_loss = ModelCheckpoint(filepath= MODELS_PATH + MODEL_NAME + '_loss.hdf5', verbose=1, save_best_only=True, save_weights_only=True)\n",
    "checkpointer_acc = ModelCheckpoint(monitor='val_acc', filepath= MODELS_PATH + MODEL_NAME + '_acc.hdf5', verbose=1, save_best_only=True, save_weights_only=True)\n",
    "\n",
    "callbacks = [checkpointer_loss,checkpointer_acc] #tensorboard"
   ],
   "outputs": [],
   "execution_count": 71
  },
  {
   "cell_type": "code",
   "metadata": {
    "ExecuteTime": {
     "end_time": "2025-03-01T03:55:45.071430Z",
     "start_time": "2025-03-01T03:55:45.059511Z"
    }
   },
   "source": [
    "import math\n",
    "\n",
    "epochs = 40 #################################   3  ##########\n",
    "\n",
    "batch_size = 64\n",
    "\n",
    "steps_per_epoch = math.ceil(len(x_training)/batch_size)\n",
    "\n",
    "val_batch_size = 1024\n",
    "\n",
    "validation_steps = math.ceil(len(x_test)/val_batch_size)\n",
    "\n",
    "def val_generator(features, labels, val_batch_size):\n",
    "    index = 0\n",
    "    while True:\n",
    "        index += val_batch_size\n",
    "        batch_features, batch_labels = features[index-val_batch_size:index], labels[index-val_batch_size:index]\n",
    "        if index >= len(features):\n",
    "            index = 0\n",
    "        yield batch_features, batch_labels\n",
    "        \n",
    "def generator(features, labels, batch_size):\n",
    "    index = 0\n",
    "    while True:\n",
    "        index += batch_size\n",
    "        if index >= len(features):\n",
    "            batch_features = np.append(features[index-batch_size:len(features)], features[0:index-len(features)], axis=0)\n",
    "            batch_labels = np.append(labels[index-batch_size:len(features)], labels[0:index-len(features)], axis=0)\n",
    "            index -= len(features)\n",
    "            yield batch_features, batch_labels\n",
    "        else:\n",
    "            yield features[index-batch_size:index], labels[index-batch_size:index]"
   ],
   "outputs": [],
   "execution_count": 72
  },
  {
   "cell_type": "code",
   "metadata": {
    "ExecuteTime": {
     "end_time": "2025-03-01T05:45:18.208283Z",
     "start_time": "2025-03-01T03:55:48.401629Z"
    }
   },
   "source": [
    "history = model.fit_generator(val_generator(x_training, y_training_vector, batch_size), steps_per_epoch=steps_per_epoch,\n",
    "                        epochs=epochs, callbacks=callbacks, class_weight=class_weights,\n",
    "                        validation_data=val_generator(x_test, y_test_vector,val_batch_size),\n",
    "                        validation_steps=validation_steps)"
   ],
   "outputs": [
    {
     "name": "stdout",
     "output_type": "stream",
     "text": [
      "Epoch 1/40\n",
      "10750/10750 [==============================] - 230s 21ms/step - loss: 0.5826 - acc: 0.7899 - val_loss: 0.5588 - val_acc: 0.7968\n",
      "\n",
      "Epoch 00001: val_loss improved from inf to 0.55879, saving model to Models/CAIDA_s1_ToR_Classification_with_NN_Based_Word2Vec_32_loss.hdf5\n",
      "\n",
      "Epoch 00001: val_acc improved from -inf to 0.79685, saving model to Models/CAIDA_s1_ToR_Classification_with_NN_Based_Word2Vec_32_acc.hdf5\n",
      "Epoch 2/40\n",
      "10750/10750 [==============================] - 164s 15ms/step - loss: 0.5490 - acc: 0.7992 - val_loss: 0.5434 - val_acc: 0.7999\n",
      "\n",
      "Epoch 00002: val_loss improved from 0.55879 to 0.54341, saving model to Models/CAIDA_s1_ToR_Classification_with_NN_Based_Word2Vec_32_loss.hdf5\n",
      "\n",
      "Epoch 00002: val_acc improved from 0.79685 to 0.79994, saving model to Models/CAIDA_s1_ToR_Classification_with_NN_Based_Word2Vec_32_acc.hdf5\n",
      "Epoch 3/40\n",
      "10750/10750 [==============================] - 146s 14ms/step - loss: 0.5357 - acc: 0.8021 - val_loss: 0.5357 - val_acc: 0.8023\n",
      "\n",
      "Epoch 00003: val_loss improved from 0.54341 to 0.53568, saving model to Models/CAIDA_s1_ToR_Classification_with_NN_Based_Word2Vec_32_loss.hdf5\n",
      "\n",
      "Epoch 00003: val_acc improved from 0.79994 to 0.80226, saving model to Models/CAIDA_s1_ToR_Classification_with_NN_Based_Word2Vec_32_acc.hdf5\n",
      "Epoch 4/40\n",
      "10750/10750 [==============================] - 143s 13ms/step - loss: 0.5271 - acc: 0.8040 - val_loss: 0.5287 - val_acc: 0.8036\n",
      "\n",
      "Epoch 00004: val_loss improved from 0.53568 to 0.52871, saving model to Models/CAIDA_s1_ToR_Classification_with_NN_Based_Word2Vec_32_loss.hdf5\n",
      "\n",
      "Epoch 00004: val_acc improved from 0.80226 to 0.80359, saving model to Models/CAIDA_s1_ToR_Classification_with_NN_Based_Word2Vec_32_acc.hdf5\n",
      "Epoch 5/40\n",
      "10750/10750 [==============================] - 135s 13ms/step - loss: 0.5206 - acc: 0.8056 - val_loss: 0.5241 - val_acc: 0.8047\n",
      "\n",
      "Epoch 00005: val_loss improved from 0.52871 to 0.52409, saving model to Models/CAIDA_s1_ToR_Classification_with_NN_Based_Word2Vec_32_loss.hdf5\n",
      "\n",
      "Epoch 00005: val_acc improved from 0.80359 to 0.80468, saving model to Models/CAIDA_s1_ToR_Classification_with_NN_Based_Word2Vec_32_acc.hdf5\n",
      "Epoch 6/40\n",
      "10750/10750 [==============================] - 136s 13ms/step - loss: 0.5158 - acc: 0.8065 - val_loss: 0.5212 - val_acc: 0.8053\n",
      "\n",
      "Epoch 00006: val_loss improved from 0.52409 to 0.52123, saving model to Models/CAIDA_s1_ToR_Classification_with_NN_Based_Word2Vec_32_loss.hdf5\n",
      "\n",
      "Epoch 00006: val_acc improved from 0.80468 to 0.80527, saving model to Models/CAIDA_s1_ToR_Classification_with_NN_Based_Word2Vec_32_acc.hdf5\n",
      "Epoch 7/40\n",
      "10750/10750 [==============================] - 155s 14ms/step - loss: 0.5114 - acc: 0.8076 - val_loss: 0.5189 - val_acc: 0.8058\n",
      "\n",
      "Epoch 00007: val_loss improved from 0.52123 to 0.51890, saving model to Models/CAIDA_s1_ToR_Classification_with_NN_Based_Word2Vec_32_loss.hdf5\n",
      "\n",
      "Epoch 00007: val_acc improved from 0.80527 to 0.80581, saving model to Models/CAIDA_s1_ToR_Classification_with_NN_Based_Word2Vec_32_acc.hdf5\n",
      "Epoch 8/40\n",
      "10750/10750 [==============================] - 158s 15ms/step - loss: 0.5080 - acc: 0.8085 - val_loss: 0.5176 - val_acc: 0.8059\n",
      "\n",
      "Epoch 00008: val_loss improved from 0.51890 to 0.51762, saving model to Models/CAIDA_s1_ToR_Classification_with_NN_Based_Word2Vec_32_loss.hdf5\n",
      "\n",
      "Epoch 00008: val_acc improved from 0.80581 to 0.80590, saving model to Models/CAIDA_s1_ToR_Classification_with_NN_Based_Word2Vec_32_acc.hdf5\n",
      "Epoch 9/40\n",
      "10750/10750 [==============================] - 155s 14ms/step - loss: 0.5050 - acc: 0.8094 - val_loss: 0.5169 - val_acc: 0.8061\n",
      "\n",
      "Epoch 00009: val_loss improved from 0.51762 to 0.51693, saving model to Models/CAIDA_s1_ToR_Classification_with_NN_Based_Word2Vec_32_loss.hdf5\n",
      "\n",
      "Epoch 00009: val_acc improved from 0.80590 to 0.80612, saving model to Models/CAIDA_s1_ToR_Classification_with_NN_Based_Word2Vec_32_acc.hdf5\n",
      "Epoch 10/40\n",
      "10750/10750 [==============================] - 136s 13ms/step - loss: 0.5026 - acc: 0.8098 - val_loss: 0.5151 - val_acc: 0.8066\n",
      "\n",
      "Epoch 00010: val_loss improved from 0.51693 to 0.51509, saving model to Models/CAIDA_s1_ToR_Classification_with_NN_Based_Word2Vec_32_loss.hdf5\n",
      "\n",
      "Epoch 00010: val_acc improved from 0.80612 to 0.80665, saving model to Models/CAIDA_s1_ToR_Classification_with_NN_Based_Word2Vec_32_acc.hdf5\n",
      "Epoch 11/40\n",
      "10750/10750 [==============================] - 168s 16ms/step - loss: 0.5003 - acc: 0.8106 - val_loss: 0.5137 - val_acc: 0.8068\n",
      "\n",
      "Epoch 00011: val_loss improved from 0.51509 to 0.51368, saving model to Models/CAIDA_s1_ToR_Classification_with_NN_Based_Word2Vec_32_loss.hdf5\n",
      "\n",
      "Epoch 00011: val_acc improved from 0.80665 to 0.80680, saving model to Models/CAIDA_s1_ToR_Classification_with_NN_Based_Word2Vec_32_acc.hdf5\n",
      "Epoch 12/40\n",
      "10750/10750 [==============================] - 196s 18ms/step - loss: 0.4982 - acc: 0.8111 - val_loss: 0.5125 - val_acc: 0.8075\n",
      "\n",
      "Epoch 00012: val_loss improved from 0.51368 to 0.51253, saving model to Models/CAIDA_s1_ToR_Classification_with_NN_Based_Word2Vec_32_loss.hdf5\n",
      "\n",
      "Epoch 00012: val_acc improved from 0.80680 to 0.80751, saving model to Models/CAIDA_s1_ToR_Classification_with_NN_Based_Word2Vec_32_acc.hdf5\n",
      "Epoch 13/40\n",
      "10750/10750 [==============================] - 157s 15ms/step - loss: 0.4963 - acc: 0.8115 - val_loss: 0.5121 - val_acc: 0.8074\n",
      "\n",
      "Epoch 00013: val_loss improved from 0.51253 to 0.51214, saving model to Models/CAIDA_s1_ToR_Classification_with_NN_Based_Word2Vec_32_loss.hdf5\n",
      "\n",
      "Epoch 00013: val_acc did not improve from 0.80751\n",
      "Epoch 14/40\n",
      "10750/10750 [==============================] - 150s 14ms/step - loss: 0.4943 - acc: 0.8121 - val_loss: 0.5114 - val_acc: 0.8080\n",
      "\n",
      "Epoch 00014: val_loss improved from 0.51214 to 0.51137, saving model to Models/CAIDA_s1_ToR_Classification_with_NN_Based_Word2Vec_32_loss.hdf5\n",
      "\n",
      "Epoch 00014: val_acc improved from 0.80751 to 0.80801, saving model to Models/CAIDA_s1_ToR_Classification_with_NN_Based_Word2Vec_32_acc.hdf5\n",
      "Epoch 15/40\n",
      "10750/10750 [==============================] - 149s 14ms/step - loss: 0.4927 - acc: 0.8128 - val_loss: 0.5106 - val_acc: 0.8082\n",
      "\n",
      "Epoch 00015: val_loss improved from 0.51137 to 0.51057, saving model to Models/CAIDA_s1_ToR_Classification_with_NN_Based_Word2Vec_32_loss.hdf5\n",
      "\n",
      "Epoch 00015: val_acc improved from 0.80801 to 0.80817, saving model to Models/CAIDA_s1_ToR_Classification_with_NN_Based_Word2Vec_32_acc.hdf5\n",
      "Epoch 16/40\n",
      "10750/10750 [==============================] - 149s 14ms/step - loss: 0.4912 - acc: 0.8131 - val_loss: 0.5104 - val_acc: 0.8085\n",
      "\n",
      "Epoch 00016: val_loss improved from 0.51057 to 0.51035, saving model to Models/CAIDA_s1_ToR_Classification_with_NN_Based_Word2Vec_32_loss.hdf5\n",
      "\n",
      "Epoch 00016: val_acc improved from 0.80817 to 0.80852, saving model to Models/CAIDA_s1_ToR_Classification_with_NN_Based_Word2Vec_32_acc.hdf5\n",
      "Epoch 17/40\n",
      "10750/10750 [==============================] - 149s 14ms/step - loss: 0.4900 - acc: 0.8131 - val_loss: 0.5099 - val_acc: 0.8082\n",
      "\n",
      "Epoch 00017: val_loss improved from 0.51035 to 0.50993, saving model to Models/CAIDA_s1_ToR_Classification_with_NN_Based_Word2Vec_32_loss.hdf5\n",
      "\n",
      "Epoch 00017: val_acc did not improve from 0.80852\n",
      "Epoch 18/40\n",
      "10750/10750 [==============================] - 169s 16ms/step - loss: 0.4886 - acc: 0.8136 - val_loss: 0.5105 - val_acc: 0.8083\n",
      "\n",
      "Epoch 00018: val_loss did not improve from 0.50993\n",
      "\n",
      "Epoch 00018: val_acc did not improve from 0.80852\n",
      "Epoch 19/40\n",
      "10750/10750 [==============================] - 197s 18ms/step - loss: 0.4875 - acc: 0.8139 - val_loss: 0.5104 - val_acc: 0.8079\n",
      "\n",
      "Epoch 00019: val_loss did not improve from 0.50993\n",
      "\n",
      "Epoch 00019: val_acc did not improve from 0.80852\n",
      "Epoch 20/40\n",
      "10750/10750 [==============================] - 182s 17ms/step - loss: 0.4862 - acc: 0.8141 - val_loss: 0.5098 - val_acc: 0.8081\n",
      "\n",
      "Epoch 00020: val_loss improved from 0.50993 to 0.50975, saving model to Models/CAIDA_s1_ToR_Classification_with_NN_Based_Word2Vec_32_loss.hdf5\n",
      "\n",
      "Epoch 00020: val_acc did not improve from 0.80852\n",
      "Epoch 21/40\n",
      "10750/10750 [==============================] - 184s 17ms/step - loss: 0.4851 - acc: 0.8146 - val_loss: 0.5094 - val_acc: 0.8079\n",
      "\n",
      "Epoch 00021: val_loss improved from 0.50975 to 0.50944, saving model to Models/CAIDA_s1_ToR_Classification_with_NN_Based_Word2Vec_32_loss.hdf5\n",
      "\n",
      "Epoch 00021: val_acc did not improve from 0.80852\n",
      "Epoch 22/40\n",
      "10750/10750 [==============================] - 180s 17ms/step - loss: 0.4841 - acc: 0.8146 - val_loss: 0.5101 - val_acc: 0.8080\n",
      "\n",
      "Epoch 00022: val_loss did not improve from 0.50944\n",
      "\n",
      "Epoch 00022: val_acc did not improve from 0.80852\n",
      "Epoch 23/40\n",
      "10750/10750 [==============================] - 165s 15ms/step - loss: 0.4832 - acc: 0.8149 - val_loss: 0.5090 - val_acc: 0.8080\n",
      "\n",
      "Epoch 00023: val_loss improved from 0.50944 to 0.50905, saving model to Models/CAIDA_s1_ToR_Classification_with_NN_Based_Word2Vec_32_loss.hdf5\n",
      "\n",
      "Epoch 00023: val_acc did not improve from 0.80852\n",
      "Epoch 24/40\n",
      "10750/10750 [==============================] - 160s 15ms/step - loss: 0.4825 - acc: 0.8151 - val_loss: 0.5093 - val_acc: 0.8078\n",
      "\n",
      "Epoch 00024: val_loss did not improve from 0.50905\n",
      "\n",
      "Epoch 00024: val_acc did not improve from 0.80852\n",
      "Epoch 25/40\n",
      "10750/10750 [==============================] - 155s 14ms/step - loss: 0.4817 - acc: 0.8153 - val_loss: 0.5095 - val_acc: 0.8085\n",
      "\n",
      "Epoch 00025: val_loss did not improve from 0.50905\n",
      "\n",
      "Epoch 00025: val_acc did not improve from 0.80852\n",
      "Epoch 26/40\n",
      "10750/10750 [==============================] - 171s 16ms/step - loss: 0.4812 - acc: 0.8153 - val_loss: 0.5087 - val_acc: 0.8080\n",
      "\n",
      "Epoch 00026: val_loss improved from 0.50905 to 0.50873, saving model to Models/CAIDA_s1_ToR_Classification_with_NN_Based_Word2Vec_32_loss.hdf5\n",
      "\n",
      "Epoch 00026: val_acc did not improve from 0.80852\n",
      "Epoch 27/40\n",
      "10750/10750 [==============================] - 152s 14ms/step - loss: 0.4803 - acc: 0.8157 - val_loss: 0.5085 - val_acc: 0.8083\n",
      "\n",
      "Epoch 00027: val_loss improved from 0.50873 to 0.50846, saving model to Models/CAIDA_s1_ToR_Classification_with_NN_Based_Word2Vec_32_loss.hdf5\n",
      "\n",
      "Epoch 00027: val_acc did not improve from 0.80852\n",
      "Epoch 28/40\n",
      "10750/10750 [==============================] - 162s 15ms/step - loss: 0.4796 - acc: 0.8159 - val_loss: 0.5090 - val_acc: 0.8078\n",
      "\n",
      "Epoch 00028: val_loss did not improve from 0.50846\n",
      "\n",
      "Epoch 00028: val_acc did not improve from 0.80852\n",
      "Epoch 29/40\n",
      "10750/10750 [==============================] - 178s 17ms/step - loss: 0.4790 - acc: 0.8162 - val_loss: 0.5090 - val_acc: 0.8080\n",
      "\n",
      "Epoch 00029: val_loss did not improve from 0.50846\n",
      "\n",
      "Epoch 00029: val_acc did not improve from 0.80852\n",
      "Epoch 30/40\n",
      "10750/10750 [==============================] - 188s 18ms/step - loss: 0.4783 - acc: 0.8161 - val_loss: 0.5088 - val_acc: 0.8085\n",
      "\n",
      "Epoch 00030: val_loss did not improve from 0.50846\n",
      "\n",
      "Epoch 00030: val_acc did not improve from 0.80852\n",
      "Epoch 31/40\n",
      "10750/10750 [==============================] - 176s 16ms/step - loss: 0.4777 - acc: 0.8164 - val_loss: 0.5088 - val_acc: 0.8081\n",
      "\n",
      "Epoch 00031: val_loss did not improve from 0.50846\n",
      "\n",
      "Epoch 00031: val_acc did not improve from 0.80852\n",
      "Epoch 32/40\n",
      "10750/10750 [==============================] - 181s 17ms/step - loss: 0.4772 - acc: 0.8166 - val_loss: 0.5089 - val_acc: 0.8080\n",
      "\n",
      "Epoch 00032: val_loss did not improve from 0.50846\n",
      "\n",
      "Epoch 00032: val_acc did not improve from 0.80852\n",
      "Epoch 33/40\n",
      "10750/10750 [==============================] - 181s 17ms/step - loss: 0.4765 - acc: 0.8168 - val_loss: 0.5094 - val_acc: 0.8077\n",
      "\n",
      "Epoch 00033: val_loss did not improve from 0.50846\n",
      "\n",
      "Epoch 00033: val_acc did not improve from 0.80852\n",
      "Epoch 34/40\n",
      "10750/10750 [==============================] - 168s 16ms/step - loss: 0.4760 - acc: 0.8171 - val_loss: 0.5090 - val_acc: 0.8089\n",
      "\n",
      "Epoch 00034: val_loss did not improve from 0.50846\n",
      "\n",
      "Epoch 00034: val_acc improved from 0.80852 to 0.80891, saving model to Models/CAIDA_s1_ToR_Classification_with_NN_Based_Word2Vec_32_acc.hdf5\n",
      "Epoch 35/40\n",
      "10750/10750 [==============================] - 165s 15ms/step - loss: 0.4755 - acc: 0.8170 - val_loss: 0.5083 - val_acc: 0.8080\n",
      "\n",
      "Epoch 00035: val_loss improved from 0.50846 to 0.50831, saving model to Models/CAIDA_s1_ToR_Classification_with_NN_Based_Word2Vec_32_loss.hdf5\n",
      "\n",
      "Epoch 00035: val_acc did not improve from 0.80891\n",
      "Epoch 36/40\n",
      "10750/10750 [==============================] - 171s 16ms/step - loss: 0.4750 - acc: 0.8170 - val_loss: 0.5086 - val_acc: 0.8082\n",
      "\n",
      "Epoch 00036: val_loss did not improve from 0.50831\n",
      "\n",
      "Epoch 00036: val_acc did not improve from 0.80891\n",
      "Epoch 37/40\n",
      "10750/10750 [==============================] - 155s 14ms/step - loss: 0.4745 - acc: 0.8171 - val_loss: 0.5092 - val_acc: 0.8082\n",
      "\n",
      "Epoch 00037: val_loss did not improve from 0.50831\n",
      "\n",
      "Epoch 00037: val_acc did not improve from 0.80891\n",
      "Epoch 38/40\n",
      "10750/10750 [==============================] - 151s 14ms/step - loss: 0.4740 - acc: 0.8173 - val_loss: 0.5094 - val_acc: 0.8074\n",
      "\n",
      "Epoch 00038: val_loss did not improve from 0.50831\n",
      "\n",
      "Epoch 00038: val_acc did not improve from 0.80891\n",
      "Epoch 39/40\n",
      "10750/10750 [==============================] - 151s 14ms/step - loss: 0.4736 - acc: 0.8175 - val_loss: 0.5093 - val_acc: 0.8075\n",
      "\n",
      "Epoch 00039: val_loss did not improve from 0.50831\n",
      "\n",
      "Epoch 00039: val_acc did not improve from 0.80891\n",
      "Epoch 40/40\n",
      "10750/10750 [==============================] - 151s 14ms/step - loss: 0.4730 - acc: 0.8177 - val_loss: 0.5086 - val_acc: 0.8081\n",
      "\n",
      "Epoch 00040: val_loss did not improve from 0.50831\n",
      "\n",
      "Epoch 00040: val_acc did not improve from 0.80891\n"
     ]
    }
   ],
   "execution_count": 73
  },
  {
   "cell_type": "markdown",
   "metadata": {},
   "source": [
    "# Plot history accuracy"
   ]
  },
  {
   "cell_type": "code",
   "metadata": {
    "ExecuteTime": {
     "end_time": "2025-03-01T05:45:30.081541Z",
     "start_time": "2025-03-01T05:45:29.787874Z"
    }
   },
   "source": [
    "import matplotlib.pyplot as plt\n",
    "import pickle\n",
    "%matplotlib inline\n",
    "\n",
    "def smooth(y, box_pts):\n",
    "    box = np.ones(box_pts)/box_pts\n",
    "    y_smooth = np.convolve(y, box, mode='same')\n",
    "    return y_smooth\n",
    "\n",
    "\n",
    "with open(RESULTS_PATH + MODEL_NAME +  \"_accuracy.pkl\", 'wb') as output:\n",
    "    pickle.dump(history.history, output, pickle.HIGHEST_PROTOCOL)\n",
    "\n",
    "# list all data in history\n",
    "print(history.history.keys())\n",
    "x = np.asarray(range(1,epochs + 1))\n",
    "# summarize history for accuracy\n",
    "plt.figure()\n",
    "plt.plot(x, smooth([y*100 for y in history.history['acc']],2))\n",
    "# plt.plot(x, [y*100 for y in history_history['val_acc']])\n",
    "plt.plot(x, smooth([y*100 for y in history.history['val_acc']],2))\n",
    "plt.ylabel('Accuracy (%)')\n",
    "plt.xlabel('Epochs')\n",
    "plt.ylim(70,100) ###########################\n",
    "plt.legend(['Training', 'Test'], loc='lower right')\n",
    "plt.grid()\n",
    "plt.savefig(RESULTS_PATH + MODEL_NAME +  \" accuracy history\", bbox_inches='tight')\n",
    "plt.show()"
   ],
   "outputs": [
    {
     "name": "stdout",
     "output_type": "stream",
     "text": [
      "dict_keys(['val_loss', 'val_acc', 'loss', 'acc'])\n"
     ]
    },
    {
     "data": {
      "text/plain": [
       "<Figure size 432x288 with 1 Axes>"
      ],
      "image/png": "[encoded data removed]"
     },
     "metadata": {},
     "output_type": "display_data"
    }
   ],
   "execution_count": 74
  },
  {
   "cell_type": "markdown",
   "metadata": {
    "ExecuteTime": {
     "end_time": "2018-10-20T11:24:40.580036Z",
     "start_time": "2018-10-20T11:24:33.351927Z"
    }
   },
   "source": [
    "# Final evaluation of the model\n",
    "## Evaluate accuracy over the test set"
   ]
  },
  {
   "cell_type": "code",
   "metadata": {
    "ExecuteTime": {
     "end_time": "2025-03-01T05:45:33.912399Z",
     "start_time": "2025-03-01T05:45:33.860867Z"
    }
   },
   "source": [
    "model.load_weights(MODELS_PATH + MODEL_NAME + '_acc.hdf5')"
   ],
   "outputs": [],
   "execution_count": 75
  },
  {
   "cell_type": "code",
   "metadata": {
    "ExecuteTime": {
     "end_time": "2025-03-01T05:45:36.748866Z",
     "start_time": "2025-03-01T05:45:35.330624Z"
    }
   },
   "source": [
    "test_scores = model.evaluate(x_test, y_test_vector, batch_size=val_batch_size, verbose=1)\n",
    "    \n",
    "    \n",
    "print(\"Accuracy: %.2f%%\" % (test_scores[1]*100))"
   ],
   "outputs": [
    {
     "name": "stdout",
     "output_type": "stream",
     "text": [
      "171990/171990 [==============================] - 1s 8us/step\n",
      "Accuracy: 80.89%\n"
     ]
    }
   ],
   "execution_count": 76
  },
  {
   "cell_type": "code",
   "metadata": {
    "ExecuteTime": {
     "end_time": "2025-03-01T05:45:40.587785Z",
     "start_time": "2025-03-01T05:45:39.083553Z"
    }
   },
   "source": [
    "y_test_prediction = model.predict_classes(x_test, batch_size=val_batch_size, verbose=1)"
   ],
   "outputs": [
    {
     "name": "stdout",
     "output_type": "stream",
     "text": [
      "171990/171990 [==============================] - 2s 9us/step\n"
     ]
    }
   ],
   "execution_count": 77
  },
  {
   "cell_type": "code",
   "metadata": {
    "ExecuteTime": {
     "end_time": "2025-03-01T05:45:47.949211Z",
     "start_time": "2025-03-01T05:45:42.550765Z"
    }
   },
   "source": [
    "y_training_prediction = model.predict_classes(x_training, batch_size=val_batch_size, verbose=1)"
   ],
   "outputs": [
    {
     "name": "stdout",
     "output_type": "stream",
     "text": [
      "687958/687958 [==============================] - 5s 8us/step\n"
     ]
    }
   ],
   "execution_count": 78
  },
  {
   "cell_type": "markdown",
   "metadata": {},
   "source": [
    "## Test if by learning (asn1, asn2) -> p2c then (asn2, asn1) -> c2p and vice versa"
   ]
  },
  {
   "cell_type": "code",
   "metadata": {
    "ExecuteTime": {
     "end_time": "2025-03-01T05:45:51.778851Z",
     "start_time": "2025-03-01T05:45:51.530084Z"
    }
   },
   "source": [
    "p2c = 2\n",
    "c2p = 1\n",
    "\n",
    "p2c_training = np.asarray([np.asarray(x_training[i]) for i in range(len(x_training)) if y_training[i] == p2c])\n",
    "p2c_training_oposite = np.asarray([np.asarray([pair[1], pair[0]]) for pair in p2c_training])\n",
    "\n",
    "p2c_training_label_vector = to_categorical([p2c]*len(p2c_training), num_classes)\n",
    "p2c_training_oposite_label_vector = to_categorical([c2p]*len(p2c_training_oposite), num_classes)\n",
    "\n",
    "print(p2c_training.shape, p2c_training_oposite.shape, p2c_training_oposite_label_vector.shape)"
   ],
   "outputs": [
    {
     "name": "stdout",
     "output_type": "stream",
     "text": [
      "(96404, 2) (96404, 2) (96404, 3)\n"
     ]
    }
   ],
   "execution_count": 79
  },
  {
   "cell_type": "code",
   "metadata": {
    "ExecuteTime": {
     "end_time": "2025-03-01T05:46:28.517549Z",
     "start_time": "2025-03-01T05:45:54.601114Z"
    }
   },
   "source": [
    "p2c_training_scores = model.evaluate(p2c_training, p2c_training_label_vector, verbose=1)\n",
    "print(\"Accuracy: %.2f%%\" % (p2c_training_scores[1]*100))\n",
    "\n",
    "p2c_training_oposite_scores = model.evaluate(p2c_training_oposite, p2c_training_oposite_label_vector, verbose=1)\n",
    "print(\"Accuracy: %.2f%%\" % (p2c_training_oposite_scores[1]*100))"
   ],
   "outputs": [
    {
     "name": "stdout",
     "output_type": "stream",
     "text": [
      "96404/96404 [==============================] - 17s 175us/step\n",
      "Accuracy: 45.22%\n",
      "96404/96404 [==============================] - 17s 177us/step\n",
      "Accuracy: 46.86%\n"
     ]
    }
   ],
   "execution_count": 80
  },
  {
   "cell_type": "markdown",
   "metadata": {},
   "source": [
    "## Test if by learning (asn1, asn2) -> p2p then (asn2, asn1) -> p2p and vice versa"
   ]
  },
  {
   "cell_type": "code",
   "metadata": {
    "ExecuteTime": {
     "end_time": "2025-03-01T05:46:32.252547Z",
     "start_time": "2025-03-01T05:46:31.191203Z"
    }
   },
   "source": [
    "p2p = 0\n",
    "\n",
    "p2p_training = np.asarray([np.asarray(x_training[i]) for i in range(len(x_training)) if y_training[i] == p2p])\n",
    "p2p_training_oposite = np.asarray([np.asarray([pair[1], pair[0]]) for pair in p2p_training])\n",
    "\n",
    "p2p_training_label_vector = to_categorical([p2p]*len(p2p_training), num_classes)\n",
    "p2p_training_oposite_label_vector = to_categorical([p2p]*len(p2p_training_oposite), num_classes)"
   ],
   "outputs": [],
   "execution_count": 81
  },
  {
   "cell_type": "code",
   "metadata": {
    "ExecuteTime": {
     "end_time": "2025-03-01T05:49:23.750404Z",
     "start_time": "2025-03-01T05:46:34.238691Z"
    }
   },
   "source": [
    "p2p_training_scores = model.evaluate(p2p_training, p2p_training_label_vector, verbose=1)\n",
    "print(\"Accuracy: %.2f%%\" % (p2p_training_scores[1]*100))\n",
    "\n",
    "p2p_training_oposite_scores = model.evaluate(p2p_training_oposite, p2p_training_oposite_label_vector, verbose=1)\n",
    "print(\"Accuracy: %.2f%%\" % (p2p_training_oposite_scores[1]*100))"
   ],
   "outputs": [
    {
     "name": "stdout",
     "output_type": "stream",
     "text": [
      "495228/495228 [==============================] - 86s 173us/step\n",
      "Accuracy: 95.45%\n",
      "495228/495228 [==============================] - 84s 169us/step\n",
      "Accuracy: 95.37%\n"
     ]
    }
   ],
   "execution_count": 82
  },
  {
   "cell_type": "markdown",
   "metadata": {},
   "source": [
    "## Plot and save a confusion matrix for results over the test set"
   ]
  },
  {
   "cell_type": "markdown",
   "metadata": {},
   "source": [
    "### Define a function"
   ]
  },
  {
   "cell_type": "code",
   "metadata": {
    "ExecuteTime": {
     "end_time": "2025-03-01T05:49:33.702550Z",
     "start_time": "2025-03-01T05:49:33.674324Z"
    }
   },
   "source": [
    "%matplotlib inline\n",
    "\n",
    "import matplotlib\n",
    "import pylab as pl\n",
    "from sklearn.metrics import confusion_matrix\n",
    "import itertools\n",
    "import matplotlib.pyplot as plt\n",
    "import matplotlib.cm as cm\n",
    "\n",
    "def plot_confusion_matrix(cm, classes,\n",
    "                          normalize=False,\n",
    "                          title='Confusion matrix',\n",
    "                          fname='Confusion matrix',\n",
    "                          cmap=plt.cm.Blues):\n",
    "    \"\"\"\n",
    "    This function prints and plots the confusion matrix.\n",
    "    Normalization can be applied by setting `normalize=True`.\n",
    "    \"\"\"\n",
    "    if normalize:\n",
    "        cm = cm.astype('float') / cm.sum(axis=1)[:, np.newaxis]\n",
    "        print(\"Normalized confusion matrix\")\n",
    "        plt.imshow([[100*j for j in i] for i in cm], interpolation='nearest', cmap=cmap)\n",
    "        cbar = plt.colorbar()\n",
    "        cbar.ax.set_yticklabels(['0%','20%','40%','60%','80%','100%'])\n",
    "    else:\n",
    "        print('Confusion matrix, without normalization')\n",
    "        plt.imshow(cm, interpolation='nearest', cmap=cmap)\n",
    "        plt.colorbar()\n",
    "    \n",
    "    tick_marks = np.arange(len(classes))\n",
    "    plt.xticks(tick_marks, classes, rotation=45)\n",
    "    plt.yticks(tick_marks, classes)\n",
    "\n",
    "    fmt = '.1f' if normalize else 'd'\n",
    "    thresh = cm.max() / 2.\n",
    "    for i, j in itertools.product(range(cm.shape[0]), range(cm.shape[1])):\n",
    "        if normalize:\n",
    "            plt.text(j, i, format(cm[i, j]*100, fmt) + '%',\n",
    "                 horizontalalignment=\"center\",\n",
    "                 color=\"white\" if cm[i, j] > thresh else \"black\")\n",
    "        else:\n",
    "            plt.text(j, i, format(cm[i, j], fmt),\n",
    "                 horizontalalignment=\"center\",\n",
    "                 color=\"white\" if cm[i, j] > thresh else \"black\")    \n",
    "        \n",
    "    plt.tight_layout()\n",
    "    plt.ylabel('True Label')\n",
    "    plt.xlabel('Predicted Label')\n",
    "    plt.savefig(fname, bbox_inches='tight')"
   ],
   "outputs": [],
   "execution_count": 83
  },
  {
   "cell_type": "code",
   "metadata": {
    "ExecuteTime": {
     "end_time": "2025-03-01T05:49:37.527030Z",
     "start_time": "2025-03-01T05:49:37.221087Z"
    }
   },
   "source": [
    "# Compute confusion matrix\n",
    "cnf_matrix = confusion_matrix(y_test, y_test_prediction)\n",
    "np.set_printoptions(precision=2)\n",
    "\n",
    "# Plot non-normalized confusion matrix\n",
    "plt.figure()\n",
    "plot_confusion_matrix(cnf_matrix, classes=class_names,\n",
    "                      title='Confusion matrix, without normalization',\n",
    "                      fname=RESULTS_PATH + MODEL_NAME + \"_\" + 'Confusion_matrix_without_normalization')\n",
    "\n",
    "# Plot normalized confusion matrix\n",
    "plt.figure()\n",
    "plot_confusion_matrix(cnf_matrix, classes=class_names, normalize=True,\n",
    "                      title='Normalized Confusion Msatrix',\n",
    "                      fname=RESULTS_PATH +MODEL_NAME + \"_\" + 'Normalized_confusion_matrix')\n",
    "\n",
    "plt.show()"
   ],
   "outputs": [
    {
     "name": "stdout",
     "output_type": "stream",
     "text": [
      "Confusion matrix, without normalization\n",
      "Normalized confusion matrix\n"
     ]
    },
    {
     "data": {
      "text/plain": [
       "<Figure size 432x288 with 2 Axes>"
      ],
      "image/png": "[encoded data removed]"
     },
     "metadata": {},
     "output_type": "display_data"
    },
    {
     "data": {
      "text/plain": [
       "<Figure size 432x288 with 2 Axes>"
      ],
      "image/png": "[encoded data removed]"
     },
     "metadata": {},
     "output_type": "display_data"
    }
   ],
   "execution_count": 84
  },
  {
   "cell_type": "markdown",
   "metadata": {},
   "source": [
    "## Plot cm for training set"
   ]
  },
  {
   "cell_type": "code",
   "metadata": {
    "ExecuteTime": {
     "end_time": "2025-03-01T05:49:41.313429Z",
     "start_time": "2025-03-01T05:49:40.814142Z"
    }
   },
   "source": [
    "# Compute confusion matrix\n",
    "cnf_matrix = confusion_matrix(y_training, y_training_prediction)\n",
    "np.set_printoptions(precision=2)\n",
    "\n",
    "# Plot non-normalized confusion matrix\n",
    "plt.figure()\n",
    "plot_confusion_matrix(cnf_matrix, classes=class_names,\n",
    "                      title='Confusion matrix, without normalization',\n",
    "                      fname=RESULTS_PATH + MODEL_NAME + \"_\" + 'training_Confusion_matrix_without_normalization')\n",
    "\n",
    "# Plot normalized confusion matrix\n",
    "plt.figure()\n",
    "plot_confusion_matrix(cnf_matrix, classes=class_names, normalize=True,\n",
    "                      title='Normalized Confusion Matrix',\n",
    "                      fname=RESULTS_PATH +MODEL_NAME + \"_\" + 'training_Normalized_confusion_matrix')\n",
    "\n",
    "plt.show()"
   ],
   "outputs": [
    {
     "name": "stdout",
     "output_type": "stream",
     "text": [
      "Confusion matrix, without normalization\n",
      "Normalized confusion matrix\n"
     ]
    },
    {
     "data": {
      "text/plain": [
       "<Figure size 432x288 with 2 Axes>"
      ],
      "image/png": "[encoded data removed]"
     },
     "metadata": {},
     "output_type": "display_data"
    },
    {
     "data": {
      "text/plain": [
       "<Figure size 432x288 with 2 Axes>"
      ],
      "image/png": "[encoded data removed]"
     },
     "metadata": {},
     "output_type": "display_data"
    }
   ],
   "execution_count": 85
  },
  {
   "cell_type": "markdown",
   "metadata": {},
   "source": [
    "# Export the model to a file"
   ]
  },
  {
   "cell_type": "code",
   "metadata": {
    "ExecuteTime": {
     "end_time": "2025-03-01T05:49:48.937796Z",
     "start_time": "2025-03-01T05:49:48.893840Z"
    }
   },
   "source": [
    "model_json = model.to_json()\n",
    "with open(MODELS_PATH + MODEL_NAME + '.json', \"w\") as json_file:\n",
    "    json_file.write(model_json)\n",
    "model.save_weights(MODELS_PATH + MODEL_NAME + '.h5')\n",
    "print(\"Save Model\")"
   ],
   "outputs": [
    {
     "name": "stdout",
     "output_type": "stream",
     "text": [
      "Save Model\n"
     ]
    }
   ],
   "execution_count": 86
  },
  {
   "cell_type": "markdown",
   "metadata": {},
   "source": [
    "# Export results to a csv file (with original ASNs)\n",
    "## Define functions"
   ]
  },
  {
   "cell_type": "code",
   "metadata": {
    "ExecuteTime": {
     "end_time": "2025-03-01T05:50:02.592923Z",
     "start_time": "2025-03-01T05:50:02.531508Z"
    }
   },
   "source": [
    "def dataset_idx2asn(dataset, indexes=None):\n",
    "    dataset_asn = []\n",
    "    if indexes is not None:\n",
    "        dataset = np.take(dataset, indexes, axis=0)\n",
    "\n",
    "    for i, route in enumerate(dataset):\n",
    "        route_asn = []\n",
    "        for idx in route:\n",
    "            route_asn.append(idx2asn(idx))\n",
    "        dataset_asn.append(route_asn) \n",
    "    return dataset_asn\n",
    "\n",
    "def dataset_idx2asn_labels(dataset, labels, class_names=class_names, indexes=None):\n",
    "    dataset_asn = []\n",
    "    if indexes is not None:\n",
    "        dataset = np.take(dataset, indexes, axis=0)\n",
    "        labels = np.take(labels, indexes, axis=0)\n",
    "    \n",
    "    for i, route in enumerate(dataset):\n",
    "        route_asn = []\n",
    "        for idx in route:\n",
    "            route_asn.append(idx2asn(idx))\n",
    "        route_asn.append(class_names[labels[i]])\n",
    "        dataset_asn.append(route_asn) \n",
    "    return dataset_asn\n",
    "\n",
    "\n",
    "def dataset_idx2asn_labels_predictions(dataset, labels, predictions, class_names=class_names, indexes=None):\n",
    "    dataset_asn = []\n",
    "    if indexes is not None:\n",
    "        dataset = np.take(dataset, indexes, axis=0)\n",
    "        labels = np.take(labels, indexes, axis=0)\n",
    "        predictions = np.take(predictions, indexes, axis=0)\n",
    "    \n",
    "    for i, route in enumerate(dataset):\n",
    "        route_asn = []\n",
    "        for idx in route:\n",
    "            route_asn.append(idx2asn(idx))\n",
    "        route_asn.append(class_names[labels[i]])\n",
    "        route_asn.append(class_names[predictions[i]])\n",
    "        dataset_asn.append(route_asn) \n",
    "    return dataset_asn\n",
    "\n",
    "def dataset_idx2asn_labels_predictions_prob(dataset, labels, predictions, prob, class_names=class_names, indexes=None):\n",
    "    dataset_asn = []\n",
    "    if indexes is not None:\n",
    "        dataset = np.take(dataset, indexes, axis=0)\n",
    "        labels = np.take(labels, indexes, axis=0)\n",
    "        predictions = np.take(predictions, indexes, axis=0)\n",
    "        prob = np.take(prob, indexes, axis=0)\n",
    "    \n",
    "    for i, route in enumerate(dataset):\n",
    "        route_asn = []\n",
    "        for idx in route:\n",
    "            route_asn.append(idx2asn(idx))\n",
    "        route_asn.append(class_names[labels[i]])\n",
    "        route_asn.append(class_names[predictions[i]])\n",
    "        for p in prob[i]:\n",
    "            route_asn.append(round(p,4))\n",
    "        \n",
    "        dataset_asn.append(route_asn) \n",
    "    return dataset_asn\n",
    "\n",
    "import csv\n",
    "def export_csv(dataset, csv_name, header_type='with_gt'):\n",
    "    header_types = {\n",
    "        'reg': [\"AS1\", \"AS2\", \"Label\", \"Prediction\", \"P2P_Prob\", \"C2P_Prob\", \"P2C_Prob\"],\n",
    "        'with_gt': [\"AS1\", \"AS2\", \"Label\", 'GT', \"Prediction\", \"P2P_Prob\", \"C2P_Prob\", \"P2C_Prob\"]\n",
    "    }\n",
    "    \n",
    "    with open(csv_name + '.csv', 'w') as csv_file:\n",
    "        csv_writer = csv.writer(csv_file)\n",
    "        if header_type is not None:\n",
    "            csv_writer.writerow(header_types[header_type])\n",
    "        for row in dataset:\n",
    "            csv_writer.writerow(row)"
   ],
   "outputs": [],
   "execution_count": 87
  },
  {
   "cell_type": "markdown",
   "metadata": {},
   "source": [
    "## Load a relevant dataset {all, misclassified, decided, undecided} and get model predictions"
   ]
  },
  {
   "cell_type": "code",
   "metadata": {
    "ExecuteTime": {
     "end_time": "2025-03-01T05:50:09.533741Z",
     "start_time": "2025-03-01T05:50:08.099689Z"
    }
   },
   "source": [
    "y_test_prob = model.predict_proba(x_test, batch_size=val_batch_size, verbose=1)\n",
    "# y_training_prob = model.predict_proba(x_training, batch_size=val_batch_size, verbose=1)"
   ],
   "outputs": [
    {
     "name": "stdout",
     "output_type": "stream",
     "text": [
      "171990/171990 [==============================] - 1s 8us/step\n"
     ]
    }
   ],
   "execution_count": 88
  },
  {
   "cell_type": "code",
   "metadata": {
    "ExecuteTime": {
     "end_time": "2025-03-01T05:50:12.108416Z",
     "start_time": "2025-03-01T05:50:11.970468Z"
    }
   },
   "source": [
    "# # Create test misclassified dataset\n",
    "x_test_misclassified = np.asarray([route for i,route in enumerate(x_test) if y_test[i] != y_test_prediction[i]])\n",
    "y_test_misclassified_prediction = np.asarray([label for i,label in enumerate(y_test_prediction) if y_test[i] != y_test_prediction[i]])\n",
    "y_test_misclassified = np.asarray([label for i,label in enumerate(y_test) if y_test[i] != y_test_prediction[i]])\n",
    "y_test_misclassified_prob = np.asarray([prob for i,prob in enumerate(y_test_prob) if y_test[i] != y_test_prediction[i]])\n",
    "\n",
    "print(len(x_test_misclassified), len(y_test_misclassified_prediction), len(y_test_misclassified))\n",
    "print(y_test_misclassified_prob.shape)"
   ],
   "outputs": [
    {
     "name": "stdout",
     "output_type": "stream",
     "text": [
      "32865 32865 32865\n",
      "(32865, 3)\n"
     ]
    }
   ],
   "execution_count": 89
  },
  {
   "cell_type": "code",
   "metadata": {
    "ExecuteTime": {
     "end_time": "2025-03-01T05:50:15.162422Z",
     "start_time": "2025-03-01T05:50:14.869346Z"
    }
   },
   "source": [
    "dataset_test_misclassified = dataset_idx2asn_labels_predictions_prob(x_test_misclassified, y_test_misclassified,\n",
    "                                        y_test_misclassified_prediction, y_test_misclassified_prob)\n",
    "export_csv(dataset_test_misclassified, RESULTS_PATH + MODEL_NAME + \"_test_misclassified\")"
   ],
   "outputs": [],
   "execution_count": 90
  },
  {
   "cell_type": "code",
   "metadata": {
    "ExecuteTime": {
     "end_time": "2025-03-01T05:50:17.033064Z",
     "start_time": "2025-03-01T05:50:17.022617Z"
    }
   },
   "source": [
    "y_test_misclassified_prob_max = np.array([y_test_misclassified_prob[i][pred] for i, pred in enumerate(y_test_misclassified_prediction)])\n",
    "print(y_test_misclassified_prob_max[:10])"
   ],
   "outputs": [
    {
     "name": "stdout",
     "output_type": "stream",
     "text": [
      "[0.94 0.65 0.69 0.67 0.61 0.91 0.68 0.66 0.97 0.68]\n"
     ]
    }
   ],
   "execution_count": 91
  },
  {
   "cell_type": "code",
   "metadata": {
    "ExecuteTime": {
     "end_time": "2025-03-01T05:50:20.823766Z",
     "start_time": "2025-03-01T05:50:20.790176Z"
    }
   },
   "source": [
    "indexes = np.array(list(range(len(x_test_misclassified))))\n",
    "indexes = [x for _, x in sorted(zip(y_test_misclassified_prob_max,indexes), reverse=True)]\n",
    "print(indexes[:100])\n",
    "print(y_test_misclassified_prob_max[indexes[0]])"
   ],
   "outputs": [
    {
     "name": "stdout",
     "output_type": "stream",
     "text": [
      "[31785, 19361, 4145, 15133, 28591, 15351, 17368, 5707, 6392, 12956, 20258, 25595, 24878, 2045, 22104, 8033, 17478, 23644, 8998, 23392, 17871, 16853, 18542, 17916, 3200, 23549, 31399, 32506, 30320, 30499, 13002, 17540, 9007, 30506, 27102, 11666, 32298, 10838, 2043, 9647, 8356, 18204, 30068, 12520, 16815, 159, 30773, 5540, 29052, 13744, 1168, 12523, 18043, 487, 12046, 21284, 11380, 29853, 16549, 32498, 22958, 2704, 27756, 14367, 33, 13912, 8541, 25619, 11467, 26941, 20384, 24531, 3922, 16284, 7449, 5555, 24384, 21262, 13170, 28087, 19832, 24529, 25236, 24312, 14619, 32672, 14588, 11841, 9953, 18767, 11174, 26925, 1141, 8095, 23366, 3633, 27206, 933, 1409, 5652]\n",
      "0.99939215\n"
     ]
    }
   ],
   "execution_count": 92
  },
  {
   "cell_type": "markdown",
   "metadata": {},
   "source": [
    "## Export Results"
   ]
  },
  {
   "cell_type": "code",
   "execution_count": null,
   "metadata": {
    "ExecuteTime": {
     "end_time": "2019-05-04T15:44:11.090069Z",
     "start_time": "2019-05-04T15:44:11.008017Z"
    }
   },
   "outputs": [],
   "source": [
    "dataset_misclassified = dataset_idx2asn_and_labels(x_test_misclassified, y_test_misclassified_prediction)\n",
    "export_csv(dataset_misclassified, RESULTS_PATH + MODEL_NAME + \"_misclassified\")"
   ]
  }
 ],
 "metadata": {
  "hide_input": false,
  "kernelspec": {
   "display_name": "Python 3",
   "language": "python",
   "name": "python3"
  },
  "language_info": {
   "codemirror_mode": {
    "name": "ipython",
    "version": 3
   },
   "file_extension": ".py",
   "mimetype": "text/x-python",
   "name": "python",
   "nbconvert_exporter": "python",
   "pygments_lexer": "ipython3",
   "version": "3.7.4"
  },
  "toc": {
   "base_numbering": 1,
   "nav_menu": {},
   "number_sections": true,
   "sideBar": true,
   "skip_h1_title": false,
   "title_cell": "Table of Contents",
   "title_sidebar": "Contents",
   "toc_cell": false,
   "toc_position": {},
   "toc_section_display": true,
   "toc_window_display": true
  },
  "varInspector": {
   "cols": {
    "lenName": 16,
    "lenType": 16,
    "lenVar": 40
   },
   "kernels_config": {
    "python": {
     "delete_cmd_postfix": "",
     "delete_cmd_prefix": "del ",
     "library": "var_list.py",
     "varRefreshCmd": "print(var_dic_list())"
    },
    "r": {
     "delete_cmd_postfix": ") ",
     "delete_cmd_prefix": "rm(",
     "library": "var_list.r",
     "varRefreshCmd": "cat(var_dic_list()) "
    }
   },
   "types_to_exclude": [
    "module",
    "function",
    "builtin_function_or_method",
    "instance",
    "_Feature"
   ],
   "window_display": false
  }
 },
 "nbformat": 4,
 "nbformat_minor": 2
}
